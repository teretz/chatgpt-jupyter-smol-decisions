{
 "cells": [
  {
   "cell_type": "markdown",
   "id": "b0ab2d8c",
   "metadata": {},
   "source": [
    "cli-menu"
   ]
  },
  {
   "attachments": {},
   "cell_type": "markdown",
   "metadata": {},
   "source": [
    "##### chat\n",
    "hello"
   ]
  },
  {
   "cell_type": "markdown",
   "metadata": {
    "tags": [
     "assistant"
    ]
   },
   "source": [
    "const readline = require('readline');\n",
    "\n",
    "const rl = readline.createInterface({\n",
    "  input: process.stdin,\n",
    "  output: process.stdout\n",
    "});\n",
    "\n",
    "rl.question('Please enter a command: ', (answer) => {\n",
    "  // TODO: Parse the answer and act accordingly\n",
    "  \n",
    "  console.log(`Received command: ${answer}`);\n",
    "\n",
    "  rl.close();\n",
    "});\n",
    "\n",
    "//where does this go?"
   ]
  }
 ],
 "metadata": {
  "kernelspec": {
   "display_name": "Python 3 (ipykernel)",
   "language": "python",
   "name": "python3"
  },
  "language_info": {
   "codemirror_mode": {
    "name": "ipython",
    "version": 3
   },
   "file_extension": ".py",
   "mimetype": "text/x-python",
   "name": "python",
   "nbconvert_exporter": "python",
   "pygments_lexer": "ipython3",
   "version": "3.10.9"
  }
 },
 "nbformat": 4,
 "nbformat_minor": 5
}
