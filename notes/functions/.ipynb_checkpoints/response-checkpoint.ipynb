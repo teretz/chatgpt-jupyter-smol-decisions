{
 "cells": [
  {
   "cell_type": "markdown",
   "id": "3dfe8b26",
   "metadata": {
    "chatgpt_cell": "query",
    "chatgpt_language": "",
    "chatgpt_thread": ""
   },
   "source": [
    "##### chat\n",
    "//NOT SURE WHERE TO PUT THIS:\n",
    "\n",
    "let response = \"Error at function: functionName, in file: fileName.js, line number: 42\";\n",
    "let functionPattern = /function: (\\w+)/;\n",
    "let filePattern = /file: (\\w+\\.\\w+)/;\n",
    "let linePattern = /line number: (\\d+)/;\n",
    "\n",
    "let functionName = response.match(functionPattern)[1];\n",
    "let fileName = response.match(filePattern)[1];\n",
    "let lineNumber = response.match(linePattern)[1];\n",
    "\n",
    "console.log(functionName);  // \"functionName\"\n",
    "console.log(fileName);  // \"fileName.js\"\n",
    "console.log(lineNumber);  // \"42\"\n"
   ]
  }
 ],
 "metadata": {
  "kernelspec": {
   "display_name": "Python 3 (ipykernel)",
   "language": "python",
   "name": "python3"
  },
  "language_info": {
   "codemirror_mode": {
    "name": "ipython",
    "version": 3
   },
   "file_extension": ".py",
   "mimetype": "text/x-python",
   "name": "python",
   "nbconvert_exporter": "python",
   "pygments_lexer": "ipython3",
   "version": "3.10.9"
  }
 },
 "nbformat": 4,
 "nbformat_minor": 5
}
