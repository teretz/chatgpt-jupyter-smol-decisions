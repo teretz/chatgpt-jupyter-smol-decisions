{
 "cells": [
  {
   "cell_type": "markdown",
   "id": "9809a240",
   "metadata": {},
   "source": [
    "##### chat\n"
   ]
  }
 ],
 "metadata": {
  "kernelspec": {
   "display_name": "JavaScript (Node.js)",
   "language": "javascript",
   "name": "javascript"
  },
  "language_info": {
   "file_extension": ".js",
   "mimetype": "application/javascript",
   "name": "javascript",
   "version": "18.15.0"
  }
 },
 "nbformat": 4,
 "nbformat_minor": 5
}
