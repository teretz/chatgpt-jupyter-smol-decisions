{
 "cells": [
  {
   "cell_type": "code",
   "execution_count": null,
   "id": "06b5b741",
   "metadata": {},
   "outputs": [],
   "source": [
    "BM\n",
    "##### CHAT\n"
   ]
  },
  {
   "cell_type": "markdown",
   "id": "80b0daba",
   "metadata": {},
   "source": [
    "##### CHAT\n",
    "HELLO?"
   ]
  },
  {
   "cell_type": "markdown",
   "id": "d0277996",
   "metadata": {},
   "source": [
    "##### CHAT\n",
    "HI"
   ]
  }
 ],
 "metadata": {
  "kernelspec": {
   "display_name": "JavaScript (Node.js)",
   "language": "javascript",
   "name": "javascript"
  },
  "language_info": {
   "file_extension": ".js",
   "mimetype": "application/javascript",
   "name": "javascript",
   "version": "18.15.0"
  }
 },
 "nbformat": 4,
 "nbformat_minor": 5
}
